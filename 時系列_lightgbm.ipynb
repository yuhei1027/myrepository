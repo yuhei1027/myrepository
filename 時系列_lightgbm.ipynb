{
  "nbformat": 4,
  "nbformat_minor": 0,
  "metadata": {
    "colab": {
      "provenance": [],
      "collapsed_sections": [],
      "authorship_tag": "ABX9TyMJ7oIZNaNOlrx2XcZ1v45o",
      "include_colab_link": true
    },
    "kernelspec": {
      "name": "python3",
      "display_name": "Python 3"
    },
    "language_info": {
      "name": "python"
    }
  },
  "cells": [
    {
      "cell_type": "markdown",
      "metadata": {
        "id": "view-in-github",
        "colab_type": "text"
      },
      "source": [
        "<a href=\"https://colab.research.google.com/github/yuhei1027/myrepository/blob/main/%E6%99%82%E7%B3%BB%E5%88%97_lightgbm.ipynb\" target=\"_parent\"><img src=\"https://colab.research.google.com/assets/colab-badge.svg\" alt=\"Open In Colab\"/></a>"
      ]
    },
    {
      "cell_type": "code",
      "source": [
        "from google.colab import drive\n",
        "drive.mount('/content/drive')"
      ],
      "metadata": {
        "colab": {
          "base_uri": "https://localhost:8080/"
        },
        "id": "qi999bFn4eSU",
        "outputId": "e14f7987-ebd7-4b66-afa7-af3a05694836"
      },
      "execution_count": null,
      "outputs": [
        {
          "output_type": "stream",
          "name": "stdout",
          "text": [
            "Mounted at /content/drive\n"
          ]
        }
      ]
    },
    {
      "cell_type": "code",
      "source": [
        "!pip install lightgbm"
      ],
      "metadata": {
        "colab": {
          "base_uri": "https://localhost:8080/"
        },
        "id": "y8HHOIpL4VCJ",
        "outputId": "23147cac-edb2-435c-86dd-81d500f960e7"
      },
      "execution_count": null,
      "outputs": [
        {
          "output_type": "stream",
          "name": "stdout",
          "text": [
            "Looking in indexes: https://pypi.org/simple, https://us-python.pkg.dev/colab-wheels/public/simple/\n",
            "Requirement already satisfied: lightgbm in /usr/local/lib/python3.7/dist-packages (2.2.3)\n",
            "Requirement already satisfied: numpy in /usr/local/lib/python3.7/dist-packages (from lightgbm) (1.21.6)\n",
            "Requirement already satisfied: scipy in /usr/local/lib/python3.7/dist-packages (from lightgbm) (1.7.3)\n",
            "Requirement already satisfied: scikit-learn in /usr/local/lib/python3.7/dist-packages (from lightgbm) (1.0.2)\n",
            "Requirement already satisfied: threadpoolctl>=2.0.0 in /usr/local/lib/python3.7/dist-packages (from scikit-learn->lightgbm) (3.1.0)\n",
            "Requirement already satisfied: joblib>=0.11 in /usr/local/lib/python3.7/dist-packages (from scikit-learn->lightgbm) (1.2.0)\n"
          ]
        }
      ]
    },
    {
      "cell_type": "code",
      "execution_count": null,
      "metadata": {
        "id": "L1yw9TXz4MrD"
      },
      "outputs": [],
      "source": [
        "import pandas as pd\n",
        "import numpy as np\n",
        "import os\n",
        "import matplotlib.pyplot as plt\n",
        "import lightgbm as lgb\n",
        "from datetime import datetime\n",
        "from sklearn.metrics import mean_absolute_percentage_error as mape\n",
        "from sklearn.model_selection import train_test_split\n",
        "from sklearn.linear_model import PassiveAggressiveRegressor, ARDRegression,LinearRegression\n",
        "from sklearn.preprocessing import StandardScaler"
      ]
    },
    {
      "cell_type": "code",
      "source": [
        "df=pd.read_csv('./drive/MyDrive/MyDatasets/airplane/AirPassengers.csv')\n",
        "df.columns = ['ds', 'y']\n",
        "df.head()"
      ],
      "metadata": {
        "colab": {
          "base_uri": "https://localhost:8080/",
          "height": 206
        },
        "id": "WtKq6l4e4UR5",
        "outputId": "c07a99bb-0595-4bb1-b2aa-cbdf952f4839"
      },
      "execution_count": null,
      "outputs": [
        {
          "output_type": "execute_result",
          "data": {
            "text/plain": [
              "        ds    y\n",
              "0  1949-01  112\n",
              "1  1949-02  118\n",
              "2  1949-03  132\n",
              "3  1949-04  129\n",
              "4  1949-05  121"
            ],
            "text/html": [
              "\n",
              "  <div id=\"df-e9d1a640-c474-4b99-a4db-516355d73471\">\n",
              "    <div class=\"colab-df-container\">\n",
              "      <div>\n",
              "<style scoped>\n",
              "    .dataframe tbody tr th:only-of-type {\n",
              "        vertical-align: middle;\n",
              "    }\n",
              "\n",
              "    .dataframe tbody tr th {\n",
              "        vertical-align: top;\n",
              "    }\n",
              "\n",
              "    .dataframe thead th {\n",
              "        text-align: right;\n",
              "    }\n",
              "</style>\n",
              "<table border=\"1\" class=\"dataframe\">\n",
              "  <thead>\n",
              "    <tr style=\"text-align: right;\">\n",
              "      <th></th>\n",
              "      <th>ds</th>\n",
              "      <th>y</th>\n",
              "    </tr>\n",
              "  </thead>\n",
              "  <tbody>\n",
              "    <tr>\n",
              "      <th>0</th>\n",
              "      <td>1949-01</td>\n",
              "      <td>112</td>\n",
              "    </tr>\n",
              "    <tr>\n",
              "      <th>1</th>\n",
              "      <td>1949-02</td>\n",
              "      <td>118</td>\n",
              "    </tr>\n",
              "    <tr>\n",
              "      <th>2</th>\n",
              "      <td>1949-03</td>\n",
              "      <td>132</td>\n",
              "    </tr>\n",
              "    <tr>\n",
              "      <th>3</th>\n",
              "      <td>1949-04</td>\n",
              "      <td>129</td>\n",
              "    </tr>\n",
              "    <tr>\n",
              "      <th>4</th>\n",
              "      <td>1949-05</td>\n",
              "      <td>121</td>\n",
              "    </tr>\n",
              "  </tbody>\n",
              "</table>\n",
              "</div>\n",
              "      <button class=\"colab-df-convert\" onclick=\"convertToInteractive('df-e9d1a640-c474-4b99-a4db-516355d73471')\"\n",
              "              title=\"Convert this dataframe to an interactive table.\"\n",
              "              style=\"display:none;\">\n",
              "        \n",
              "  <svg xmlns=\"http://www.w3.org/2000/svg\" height=\"24px\"viewBox=\"0 0 24 24\"\n",
              "       width=\"24px\">\n",
              "    <path d=\"M0 0h24v24H0V0z\" fill=\"none\"/>\n",
              "    <path d=\"M18.56 5.44l.94 2.06.94-2.06 2.06-.94-2.06-.94-.94-2.06-.94 2.06-2.06.94zm-11 1L8.5 8.5l.94-2.06 2.06-.94-2.06-.94L8.5 2.5l-.94 2.06-2.06.94zm10 10l.94 2.06.94-2.06 2.06-.94-2.06-.94-.94-2.06-.94 2.06-2.06.94z\"/><path d=\"M17.41 7.96l-1.37-1.37c-.4-.4-.92-.59-1.43-.59-.52 0-1.04.2-1.43.59L10.3 9.45l-7.72 7.72c-.78.78-.78 2.05 0 2.83L4 21.41c.39.39.9.59 1.41.59.51 0 1.02-.2 1.41-.59l7.78-7.78 2.81-2.81c.8-.78.8-2.07 0-2.86zM5.41 20L4 18.59l7.72-7.72 1.47 1.35L5.41 20z\"/>\n",
              "  </svg>\n",
              "      </button>\n",
              "      \n",
              "  <style>\n",
              "    .colab-df-container {\n",
              "      display:flex;\n",
              "      flex-wrap:wrap;\n",
              "      gap: 12px;\n",
              "    }\n",
              "\n",
              "    .colab-df-convert {\n",
              "      background-color: #E8F0FE;\n",
              "      border: none;\n",
              "      border-radius: 50%;\n",
              "      cursor: pointer;\n",
              "      display: none;\n",
              "      fill: #1967D2;\n",
              "      height: 32px;\n",
              "      padding: 0 0 0 0;\n",
              "      width: 32px;\n",
              "    }\n",
              "\n",
              "    .colab-df-convert:hover {\n",
              "      background-color: #E2EBFA;\n",
              "      box-shadow: 0px 1px 2px rgba(60, 64, 67, 0.3), 0px 1px 3px 1px rgba(60, 64, 67, 0.15);\n",
              "      fill: #174EA6;\n",
              "    }\n",
              "\n",
              "    [theme=dark] .colab-df-convert {\n",
              "      background-color: #3B4455;\n",
              "      fill: #D2E3FC;\n",
              "    }\n",
              "\n",
              "    [theme=dark] .colab-df-convert:hover {\n",
              "      background-color: #434B5C;\n",
              "      box-shadow: 0px 1px 3px 1px rgba(0, 0, 0, 0.15);\n",
              "      filter: drop-shadow(0px 1px 2px rgba(0, 0, 0, 0.3));\n",
              "      fill: #FFFFFF;\n",
              "    }\n",
              "  </style>\n",
              "\n",
              "      <script>\n",
              "        const buttonEl =\n",
              "          document.querySelector('#df-e9d1a640-c474-4b99-a4db-516355d73471 button.colab-df-convert');\n",
              "        buttonEl.style.display =\n",
              "          google.colab.kernel.accessAllowed ? 'block' : 'none';\n",
              "\n",
              "        async function convertToInteractive(key) {\n",
              "          const element = document.querySelector('#df-e9d1a640-c474-4b99-a4db-516355d73471');\n",
              "          const dataTable =\n",
              "            await google.colab.kernel.invokeFunction('convertToInteractive',\n",
              "                                                     [key], {});\n",
              "          if (!dataTable) return;\n",
              "\n",
              "          const docLinkHtml = 'Like what you see? Visit the ' +\n",
              "            '<a target=\"_blank\" href=https://colab.research.google.com/notebooks/data_table.ipynb>data table notebook</a>'\n",
              "            + ' to learn more about interactive tables.';\n",
              "          element.innerHTML = '';\n",
              "          dataTable['output_type'] = 'display_data';\n",
              "          await google.colab.output.renderOutput(dataTable, element);\n",
              "          const docLink = document.createElement('div');\n",
              "          docLink.innerHTML = docLinkHtml;\n",
              "          element.appendChild(docLink);\n",
              "        }\n",
              "      </script>\n",
              "    </div>\n",
              "  </div>\n",
              "  "
            ]
          },
          "metadata": {},
          "execution_count": 63
        }
      ]
    },
    {
      "cell_type": "code",
      "source": [
        "df['y'].plot()"
      ],
      "metadata": {
        "colab": {
          "base_uri": "https://localhost:8080/",
          "height": 282
        },
        "id": "nHU8p8Ue42LC",
        "outputId": "07a271da-876e-4752-b4f4-84ae74c1c9e3"
      },
      "execution_count": null,
      "outputs": [
        {
          "output_type": "execute_result",
          "data": {
            "text/plain": [
              "<matplotlib.axes._subplots.AxesSubplot at 0x7f0d54c81e50>"
            ]
          },
          "metadata": {},
          "execution_count": 5
        },
        {
          "output_type": "display_data",
          "data": {
            "text/plain": [
              "<Figure size 432x288 with 1 Axes>"
            ],
            "image/png": "[encoded data removed]"
          },
          "metadata": {
            "needs_background": "light"
          }
        }
      ]
    },
    {
      "cell_type": "code",
      "source": [
        "df['y_lag1']=df['y'].shift(1)\n",
        "df['y_lag12']=df['y'].shift(12)\n",
        "df['y_roll12']=df['y'].rolling(12).mean()\n",
        "df['y_diff']=df['y'].diff()\n",
        "df=df.dropna().reset_index(drop=True)\n",
        "train_cols=['y_lag12']\n",
        "\n",
        "X_train,X_valid,y_train,y_valid=train_test_split(df[train_cols],df['y'],test_size=0.1,shuffle=False)"
      ],
      "metadata": {
        "id": "HdxP_8eN44oc"
      },
      "execution_count": null,
      "outputs": []
    },
    {
      "cell_type": "code",
      "source": [
        "params = {\n",
        "    #fixed\n",
        "    'min_child_samples':3,\n",
        "    'num_iterations':200\n",
        "}\n",
        "model = lgb.LGBMRegressor(**params)\n",
        "\n",
        "model.fit(X_train, y_train)\n",
        "pred=model.predict(X_valid)\n",
        "score=mape(pred,y_valid)\n",
        "print(score)"
      ],
      "metadata": {
        "colab": {
          "base_uri": "https://localhost:8080/"
        },
        "id": "-qnpfStK4kf-",
        "outputId": "2ab4a8b4-0292-480c-f12d-eda782e6fea6"
      },
      "execution_count": null,
      "outputs": [
        {
          "output_type": "stream",
          "name": "stdout",
          "text": [
            "0.06063920292128945\n"
          ]
        },
        {
          "output_type": "stream",
          "name": "stderr",
          "text": [
            "/usr/local/lib/python3.7/dist-packages/lightgbm/engine.py:118: UserWarning: Found `num_iterations` in params. Will use it instead of argument\n",
            "  warnings.warn(\"Found `{}` in params. Will use it instead of argument\".format(alias))\n"
          ]
        }
      ]
    },
    {
      "cell_type": "code",
      "source": [
        "y_new=np.concatenate([y_train,pred])\n",
        "plt.plot(df['y'])\n",
        "plt.plot(y_new)"
      ],
      "metadata": {
        "colab": {
          "base_uri": "https://localhost:8080/",
          "height": 282
        },
        "id": "R6t5AOHg5WCN",
        "outputId": "1cd5e445-f106-4dee-b20c-e99de76083d5"
      },
      "execution_count": null,
      "outputs": [
        {
          "output_type": "execute_result",
          "data": {
            "text/plain": [
              "[<matplotlib.lines.Line2D at 0x7f0d53dfd190>]"
            ]
          },
          "metadata": {},
          "execution_count": 8
        },
        {
          "output_type": "display_data",
          "data": {
            "text/plain": [
              "<Figure size 432x288 with 1 Axes>"
            ],
            "image/png": "[encoded data removed]"
          },
          "metadata": {
            "needs_background": "light"
          }
        }
      ]
    },
    {
      "cell_type": "code",
      "source": [
        "y_train.shape,y_valid.shape"
      ],
      "metadata": {
        "colab": {
          "base_uri": "https://localhost:8080/"
        },
        "id": "qas6Ivhp5Zh2",
        "outputId": "29bbac44-c72f-4f8d-a056-c11bc86d4450"
      },
      "execution_count": null,
      "outputs": [
        {
          "output_type": "execute_result",
          "data": {
            "text/plain": [
              "((129,), (15,))"
            ]
          },
          "metadata": {},
          "execution_count": 9
        }
      ]
    },
    {
      "cell_type": "markdown",
      "source": [
        "# 回帰"
      ],
      "metadata": {
        "id": "mYTOnHO9ckcl"
      }
    },
    {
      "cell_type": "code",
      "source": [
        "df=pd.read_csv('./drive/MyDrive/MyDatasets/airplane/AirPassengers.csv')\n",
        "df = pd.read_csv('https://raw.githubusercontent.com/facebook/prophet/main/examples/example_wp_log_peyton_manning.csv')\n",
        "df = pd.read_csv(\"https://raw.githubusercontent.com/statsmodels/statsmodels/main/statsmodels/datasets/nile/nile.csv\", index_col=\"year\")\n",
        "df=df.reset_index()\n",
        "df.columns = ['ds', 'y']\n",
        "print(df.shape)\n",
        "df.head()"
      ],
      "metadata": {
        "colab": {
          "base_uri": "https://localhost:8080/",
          "height": 223
        },
        "id": "thvRt5YrhBpI",
        "outputId": "e6608147-aa22-4bf6-b77c-b68146019cce"
      },
      "execution_count": null,
      "outputs": [
        {
          "output_type": "stream",
          "name": "stdout",
          "text": [
            "(100, 2)\n"
          ]
        },
        {
          "output_type": "execute_result",
          "data": {
            "text/plain": [
              "     ds     y\n",
              "0  1871  1120\n",
              "1  1872  1160\n",
              "2  1873   963\n",
              "3  1874  1210\n",
              "4  1875  1160"
            ],
            "text/html": [
              "\n",
              "  <div id=\"df-d1dfca4f-d540-473e-9901-039833160cf9\">\n",
              "    <div class=\"colab-df-container\">\n",
              "      <div>\n",
              "<style scoped>\n",
              "    .dataframe tbody tr th:only-of-type {\n",
              "        vertical-align: middle;\n",
              "    }\n",
              "\n",
              "    .dataframe tbody tr th {\n",
              "        vertical-align: top;\n",
              "    }\n",
              "\n",
              "    .dataframe thead th {\n",
              "        text-align: right;\n",
              "    }\n",
              "</style>\n",
              "<table border=\"1\" class=\"dataframe\">\n",
              "  <thead>\n",
              "    <tr style=\"text-align: right;\">\n",
              "      <th></th>\n",
              "      <th>ds</th>\n",
              "      <th>y</th>\n",
              "    </tr>\n",
              "  </thead>\n",
              "  <tbody>\n",
              "    <tr>\n",
              "      <th>0</th>\n",
              "      <td>1871</td>\n",
              "      <td>1120</td>\n",
              "    </tr>\n",
              "    <tr>\n",
              "      <th>1</th>\n",
              "      <td>1872</td>\n",
              "      <td>1160</td>\n",
              "    </tr>\n",
              "    <tr>\n",
              "      <th>2</th>\n",
              "      <td>1873</td>\n",
              "      <td>963</td>\n",
              "    </tr>\n",
              "    <tr>\n",
              "      <th>3</th>\n",
              "      <td>1874</td>\n",
              "      <td>1210</td>\n",
              "    </tr>\n",
              "    <tr>\n",
              "      <th>4</th>\n",
              "      <td>1875</td>\n",
              "      <td>1160</td>\n",
              "    </tr>\n",
              "  </tbody>\n",
              "</table>\n",
              "</div>\n",
              "      <button class=\"colab-df-convert\" onclick=\"convertToInteractive('df-d1dfca4f-d540-473e-9901-039833160cf9')\"\n",
              "              title=\"Convert this dataframe to an interactive table.\"\n",
              "              style=\"display:none;\">\n",
              "        \n",
              "  <svg xmlns=\"http://www.w3.org/2000/svg\" height=\"24px\"viewBox=\"0 0 24 24\"\n",
              "       width=\"24px\">\n",
              "    <path d=\"M0 0h24v24H0V0z\" fill=\"none\"/>\n",
              "    <path d=\"M18.56 5.44l.94 2.06.94-2.06 2.06-.94-2.06-.94-.94-2.06-.94 2.06-2.06.94zm-11 1L8.5 8.5l.94-2.06 2.06-.94-2.06-.94L8.5 2.5l-.94 2.06-2.06.94zm10 10l.94 2.06.94-2.06 2.06-.94-2.06-.94-.94-2.06-.94 2.06-2.06.94z\"/><path d=\"M17.41 7.96l-1.37-1.37c-.4-.4-.92-.59-1.43-.59-.52 0-1.04.2-1.43.59L10.3 9.45l-7.72 7.72c-.78.78-.78 2.05 0 2.83L4 21.41c.39.39.9.59 1.41.59.51 0 1.02-.2 1.41-.59l7.78-7.78 2.81-2.81c.8-.78.8-2.07 0-2.86zM5.41 20L4 18.59l7.72-7.72 1.47 1.35L5.41 20z\"/>\n",
              "  </svg>\n",
              "      </button>\n",
              "      \n",
              "  <style>\n",
              "    .colab-df-container {\n",
              "      display:flex;\n",
              "      flex-wrap:wrap;\n",
              "      gap: 12px;\n",
              "    }\n",
              "\n",
              "    .colab-df-convert {\n",
              "      background-color: #E8F0FE;\n",
              "      border: none;\n",
              "      border-radius: 50%;\n",
              "      cursor: pointer;\n",
              "      display: none;\n",
              "      fill: #1967D2;\n",
              "      height: 32px;\n",
              "      padding: 0 0 0 0;\n",
              "      width: 32px;\n",
              "    }\n",
              "\n",
              "    .colab-df-convert:hover {\n",
              "      background-color: #E2EBFA;\n",
              "      box-shadow: 0px 1px 2px rgba(60, 64, 67, 0.3), 0px 1px 3px 1px rgba(60, 64, 67, 0.15);\n",
              "      fill: #174EA6;\n",
              "    }\n",
              "\n",
              "    [theme=dark] .colab-df-convert {\n",
              "      background-color: #3B4455;\n",
              "      fill: #D2E3FC;\n",
              "    }\n",
              "\n",
              "    [theme=dark] .colab-df-convert:hover {\n",
              "      background-color: #434B5C;\n",
              "      box-shadow: 0px 1px 3px 1px rgba(0, 0, 0, 0.15);\n",
              "      filter: drop-shadow(0px 1px 2px rgba(0, 0, 0, 0.3));\n",
              "      fill: #FFFFFF;\n",
              "    }\n",
              "  </style>\n",
              "\n",
              "      <script>\n",
              "        const buttonEl =\n",
              "          document.querySelector('#df-d1dfca4f-d540-473e-9901-039833160cf9 button.colab-df-convert');\n",
              "        buttonEl.style.display =\n",
              "          google.colab.kernel.accessAllowed ? 'block' : 'none';\n",
              "\n",
              "        async function convertToInteractive(key) {\n",
              "          const element = document.querySelector('#df-d1dfca4f-d540-473e-9901-039833160cf9');\n",
              "          const dataTable =\n",
              "            await google.colab.kernel.invokeFunction('convertToInteractive',\n",
              "                                                     [key], {});\n",
              "          if (!dataTable) return;\n",
              "\n",
              "          const docLinkHtml = 'Like what you see? Visit the ' +\n",
              "            '<a target=\"_blank\" href=https://colab.research.google.com/notebooks/data_table.ipynb>data table notebook</a>'\n",
              "            + ' to learn more about interactive tables.';\n",
              "          element.innerHTML = '';\n",
              "          dataTable['output_type'] = 'display_data';\n",
              "          await google.colab.output.renderOutput(dataTable, element);\n",
              "          const docLink = document.createElement('div');\n",
              "          docLink.innerHTML = docLinkHtml;\n",
              "          element.appendChild(docLink);\n",
              "        }\n",
              "      </script>\n",
              "    </div>\n",
              "  </div>\n",
              "  "
            ]
          },
          "metadata": {},
          "execution_count": 226
        }
      ]
    },
    {
      "cell_type": "code",
      "source": [
        "def make_features(df):\n",
        "  train_cols=[]\n",
        "  for lag in [1,2,3,4,5]:\n",
        "    df[f'y_lag_{lag}']=df['y'].shift(lag)\n",
        "    df[f'y_roll_mean_{lag}']=df['y'].rolling(lag).mean().shift(1)\n",
        "    df[f'y_roll_max_{lag}']=df['y'].rolling(lag).max().shift(1)\n",
        "    df[f'y_roll_min_{lag}']=df['y'].rolling(lag).min().shift(1)\n",
        "    #df[f'y_roll_std_{lag}']=df['y'].rolling(lag).std().shift(1)\n",
        "    df[f'y_roll_max-min_{lag}']=df[f'y_roll_max_{lag}']-df[f'y_roll_min_{lag}']\n",
        "\n",
        "\n",
        "    train_cols.append(f'y_lag_{lag}')\n",
        "    train_cols.append(f'y_roll_mean_{lag}')\n",
        "    train_cols.append(f'y_roll_max_{lag}')\n",
        "    train_cols.append(f'y_roll_min_{lag}')\n",
        "    #train_cols.append(f'y_roll_std_{lag}')\n",
        "    train_cols.append(f'y_roll_max-min_{lag}')\n",
        "  \n",
        "  #ss =StandardScaler()\n",
        "  #df[train_cols]=ss.fit_transform(df[train_cols])\n",
        " \n",
        "\n",
        "  return df,train_cols\n",
        "\n",
        "def recursive_predict(train_df,valid_df,model,train_cols):\n",
        "  n_train=len(train_df)\n",
        "  n_valid=len(valid_df)\n",
        "  X=pd.concat([train_df,valid_df],ignore_index=True)\n",
        "  preds=[]\n",
        "\n",
        "  for i in range(n_train,n_train+n_valid):\n",
        "    X,_=make_features(X)\n",
        "    X_valid=X[train_cols].iloc[i:i+1]\n",
        "\n",
        "    pred=model.predict(X_valid)\n",
        "    preds.append(pred[0])\n",
        "  \n",
        "  return preds\n",
        "\n"
      ],
      "metadata": {
        "id": "aV2dpNgSeYhF"
      },
      "execution_count": null,
      "outputs": []
    },
    {
      "cell_type": "code",
      "source": [
        "valid_length=25\n",
        "train_df,valid_df=df.iloc[:-valid_length].reset_index(drop=True),df.iloc[-valid_length:].reset_index(drop=True)\n",
        "train_df,train_cols=make_features(train_df)\n",
        "train_df=train_df.dropna()\n",
        "\n",
        "#train_cols=['y_lag1','y_lag12','y_roll12']\n",
        "X_train,y_train=train_df[train_cols],train_df['y']\n",
        "\n",
        "train_df.head()"
      ],
      "metadata": {
        "colab": {
          "base_uri": "https://localhost:8080/",
          "height": 317
        },
        "id": "g74lzImVhXpV",
        "outputId": "ce8d3c14-88cd-4c1e-b82a-45a8209d7745"
      },
      "execution_count": null,
      "outputs": [
        {
          "output_type": "execute_result",
          "data": {
            "text/plain": [
              "     ds     y  y_lag_1  y_roll_mean_1  y_roll_max_1  y_roll_min_1  \\\n",
              "5  1876  1160   1160.0         1160.0        1160.0        1160.0   \n",
              "6  1877   813   1160.0         1160.0        1160.0        1160.0   \n",
              "7  1878  1230    813.0          813.0         813.0         813.0   \n",
              "8  1879  1370   1230.0         1230.0        1230.0        1230.0   \n",
              "9  1880  1140   1370.0         1370.0        1370.0        1370.0   \n",
              "\n",
              "   y_roll_max-min_1  y_lag_2  y_roll_mean_2  y_roll_max_2  ...  y_lag_4  \\\n",
              "5               0.0   1210.0         1185.0        1210.0  ...   1160.0   \n",
              "6               0.0   1160.0         1160.0        1160.0  ...    963.0   \n",
              "7               0.0   1160.0          986.5        1160.0  ...   1210.0   \n",
              "8               0.0    813.0         1021.5        1230.0  ...   1160.0   \n",
              "9               0.0   1230.0         1300.0        1370.0  ...   1160.0   \n",
              "\n",
              "   y_roll_mean_4  y_roll_max_4  y_roll_min_4  y_roll_max-min_4  y_lag_5  \\\n",
              "5        1123.25        1210.0         963.0             247.0   1120.0   \n",
              "6        1123.25        1210.0         963.0             247.0   1160.0   \n",
              "7        1085.75        1210.0         813.0             397.0    963.0   \n",
              "8        1090.75        1230.0         813.0             417.0   1210.0   \n",
              "9        1143.25        1370.0         813.0             557.0   1160.0   \n",
              "\n",
              "   y_roll_mean_5  y_roll_max_5  y_roll_min_5  y_roll_max-min_5  \n",
              "5         1122.6        1210.0         963.0             247.0  \n",
              "6         1130.6        1210.0         963.0             247.0  \n",
              "7         1061.2        1210.0         813.0             397.0  \n",
              "8         1114.6        1230.0         813.0             417.0  \n",
              "9         1146.6        1370.0         813.0             557.0  \n",
              "\n",
              "[5 rows x 27 columns]"
            ],
            "text/html": [
              "\n",
              "  <div id=\"df-67786d40-e7d4-4542-8f34-86c250f7868b\">\n",
              "    <div class=\"colab-df-container\">\n",
              "      <div>\n",
              "<style scoped>\n",
              "    .dataframe tbody tr th:only-of-type {\n",
              "        vertical-align: middle;\n",
              "    }\n",
              "\n",
              "    .dataframe tbody tr th {\n",
              "        vertical-align: top;\n",
              "    }\n",
              "\n",
              "    .dataframe thead th {\n",
              "        text-align: right;\n",
              "    }\n",
              "</style>\n",
              "<table border=\"1\" class=\"dataframe\">\n",
              "  <thead>\n",
              "    <tr style=\"text-align: right;\">\n",
              "      <th></th>\n",
              "      <th>ds</th>\n",
              "      <th>y</th>\n",
              "      <th>y_lag_1</th>\n",
              "      <th>y_roll_mean_1</th>\n",
              "      <th>y_roll_max_1</th>\n",
              "      <th>y_roll_min_1</th>\n",
              "      <th>y_roll_max-min_1</th>\n",
              "      <th>y_lag_2</th>\n",
              "      <th>y_roll_mean_2</th>\n",
              "      <th>y_roll_max_2</th>\n",
              "      <th>...</th>\n",
              "      <th>y_lag_4</th>\n",
              "      <th>y_roll_mean_4</th>\n",
              "      <th>y_roll_max_4</th>\n",
              "      <th>y_roll_min_4</th>\n",
              "      <th>y_roll_max-min_4</th>\n",
              "      <th>y_lag_5</th>\n",
              "      <th>y_roll_mean_5</th>\n",
              "      <th>y_roll_max_5</th>\n",
              "      <th>y_roll_min_5</th>\n",
              "      <th>y_roll_max-min_5</th>\n",
              "    </tr>\n",
              "  </thead>\n",
              "  <tbody>\n",
              "    <tr>\n",
              "      <th>5</th>\n",
              "      <td>1876</td>\n",
              "      <td>1160</td>\n",
              "      <td>1160.0</td>\n",
              "      <td>1160.0</td>\n",
              "      <td>1160.0</td>\n",
              "      <td>1160.0</td>\n",
              "      <td>0.0</td>\n",
              "      <td>1210.0</td>\n",
              "      <td>1185.0</td>\n",
              "      <td>1210.0</td>\n",
              "      <td>...</td>\n",
              "      <td>1160.0</td>\n",
              "      <td>1123.25</td>\n",
              "      <td>1210.0</td>\n",
              "      <td>963.0</td>\n",
              "      <td>247.0</td>\n",
              "      <td>1120.0</td>\n",
              "      <td>1122.6</td>\n",
              "      <td>1210.0</td>\n",
              "      <td>963.0</td>\n",
              "      <td>247.0</td>\n",
              "    </tr>\n",
              "    <tr>\n",
              "      <th>6</th>\n",
              "      <td>1877</td>\n",
              "      <td>813</td>\n",
              "      <td>1160.0</td>\n",
              "      <td>1160.0</td>\n",
              "      <td>1160.0</td>\n",
              "      <td>1160.0</td>\n",
              "      <td>0.0</td>\n",
              "      <td>1160.0</td>\n",
              "      <td>1160.0</td>\n",
              "      <td>1160.0</td>\n",
              "      <td>...</td>\n",
              "      <td>963.0</td>\n",
              "      <td>1123.25</td>\n",
              "      <td>1210.0</td>\n",
              "      <td>963.0</td>\n",
              "      <td>247.0</td>\n",
              "      <td>1160.0</td>\n",
              "      <td>1130.6</td>\n",
              "      <td>1210.0</td>\n",
              "      <td>963.0</td>\n",
              "      <td>247.0</td>\n",
              "    </tr>\n",
              "    <tr>\n",
              "      <th>7</th>\n",
              "      <td>1878</td>\n",
              "      <td>1230</td>\n",
              "      <td>813.0</td>\n",
              "      <td>813.0</td>\n",
              "      <td>813.0</td>\n",
              "      <td>813.0</td>\n",
              "      <td>0.0</td>\n",
              "      <td>1160.0</td>\n",
              "      <td>986.5</td>\n",
              "      <td>1160.0</td>\n",
              "      <td>...</td>\n",
              "      <td>1210.0</td>\n",
              "      <td>1085.75</td>\n",
              "      <td>1210.0</td>\n",
              "      <td>813.0</td>\n",
              "      <td>397.0</td>\n",
              "      <td>963.0</td>\n",
              "      <td>1061.2</td>\n",
              "      <td>1210.0</td>\n",
              "      <td>813.0</td>\n",
              "      <td>397.0</td>\n",
              "    </tr>\n",
              "    <tr>\n",
              "      <th>8</th>\n",
              "      <td>1879</td>\n",
              "      <td>1370</td>\n",
              "      <td>1230.0</td>\n",
              "      <td>1230.0</td>\n",
              "      <td>1230.0</td>\n",
              "      <td>1230.0</td>\n",
              "      <td>0.0</td>\n",
              "      <td>813.0</td>\n",
              "      <td>1021.5</td>\n",
              "      <td>1230.0</td>\n",
              "      <td>...</td>\n",
              "      <td>1160.0</td>\n",
              "      <td>1090.75</td>\n",
              "      <td>1230.0</td>\n",
              "      <td>813.0</td>\n",
              "      <td>417.0</td>\n",
              "      <td>1210.0</td>\n",
              "      <td>1114.6</td>\n",
              "      <td>1230.0</td>\n",
              "      <td>813.0</td>\n",
              "      <td>417.0</td>\n",
              "    </tr>\n",
              "    <tr>\n",
              "      <th>9</th>\n",
              "      <td>1880</td>\n",
              "      <td>1140</td>\n",
              "      <td>1370.0</td>\n",
              "      <td>1370.0</td>\n",
              "      <td>1370.0</td>\n",
              "      <td>1370.0</td>\n",
              "      <td>0.0</td>\n",
              "      <td>1230.0</td>\n",
              "      <td>1300.0</td>\n",
              "      <td>1370.0</td>\n",
              "      <td>...</td>\n",
              "      <td>1160.0</td>\n",
              "      <td>1143.25</td>\n",
              "      <td>1370.0</td>\n",
              "      <td>813.0</td>\n",
              "      <td>557.0</td>\n",
              "      <td>1160.0</td>\n",
              "      <td>1146.6</td>\n",
              "      <td>1370.0</td>\n",
              "      <td>813.0</td>\n",
              "      <td>557.0</td>\n",
              "    </tr>\n",
              "  </tbody>\n",
              "</table>\n",
              "<p>5 rows × 27 columns</p>\n",
              "</div>\n",
              "      <button class=\"colab-df-convert\" onclick=\"convertToInteractive('df-67786d40-e7d4-4542-8f34-86c250f7868b')\"\n",
              "              title=\"Convert this dataframe to an interactive table.\"\n",
              "              style=\"display:none;\">\n",
              "        \n",
              "  <svg xmlns=\"http://www.w3.org/2000/svg\" height=\"24px\"viewBox=\"0 0 24 24\"\n",
              "       width=\"24px\">\n",
              "    <path d=\"M0 0h24v24H0V0z\" fill=\"none\"/>\n",
              "    <path d=\"M18.56 5.44l.94 2.06.94-2.06 2.06-.94-2.06-.94-.94-2.06-.94 2.06-2.06.94zm-11 1L8.5 8.5l.94-2.06 2.06-.94-2.06-.94L8.5 2.5l-.94 2.06-2.06.94zm10 10l.94 2.06.94-2.06 2.06-.94-2.06-.94-.94-2.06-.94 2.06-2.06.94z\"/><path d=\"M17.41 7.96l-1.37-1.37c-.4-.4-.92-.59-1.43-.59-.52 0-1.04.2-1.43.59L10.3 9.45l-7.72 7.72c-.78.78-.78 2.05 0 2.83L4 21.41c.39.39.9.59 1.41.59.51 0 1.02-.2 1.41-.59l7.78-7.78 2.81-2.81c.8-.78.8-2.07 0-2.86zM5.41 20L4 18.59l7.72-7.72 1.47 1.35L5.41 20z\"/>\n",
              "  </svg>\n",
              "      </button>\n",
              "      \n",
              "  <style>\n",
              "    .colab-df-container {\n",
              "      display:flex;\n",
              "      flex-wrap:wrap;\n",
              "      gap: 12px;\n",
              "    }\n",
              "\n",
              "    .colab-df-convert {\n",
              "      background-color: #E8F0FE;\n",
              "      border: none;\n",
              "      border-radius: 50%;\n",
              "      cursor: pointer;\n",
              "      display: none;\n",
              "      fill: #1967D2;\n",
              "      height: 32px;\n",
              "      padding: 0 0 0 0;\n",
              "      width: 32px;\n",
              "    }\n",
              "\n",
              "    .colab-df-convert:hover {\n",
              "      background-color: #E2EBFA;\n",
              "      box-shadow: 0px 1px 2px rgba(60, 64, 67, 0.3), 0px 1px 3px 1px rgba(60, 64, 67, 0.15);\n",
              "      fill: #174EA6;\n",
              "    }\n",
              "\n",
              "    [theme=dark] .colab-df-convert {\n",
              "      background-color: #3B4455;\n",
              "      fill: #D2E3FC;\n",
              "    }\n",
              "\n",
              "    [theme=dark] .colab-df-convert:hover {\n",
              "      background-color: #434B5C;\n",
              "      box-shadow: 0px 1px 3px 1px rgba(0, 0, 0, 0.15);\n",
              "      filter: drop-shadow(0px 1px 2px rgba(0, 0, 0, 0.3));\n",
              "      fill: #FFFFFF;\n",
              "    }\n",
              "  </style>\n",
              "\n",
              "      <script>\n",
              "        const buttonEl =\n",
              "          document.querySelector('#df-67786d40-e7d4-4542-8f34-86c250f7868b button.colab-df-convert');\n",
              "        buttonEl.style.display =\n",
              "          google.colab.kernel.accessAllowed ? 'block' : 'none';\n",
              "\n",
              "        async function convertToInteractive(key) {\n",
              "          const element = document.querySelector('#df-67786d40-e7d4-4542-8f34-86c250f7868b');\n",
              "          const dataTable =\n",
              "            await google.colab.kernel.invokeFunction('convertToInteractive',\n",
              "                                                     [key], {});\n",
              "          if (!dataTable) return;\n",
              "\n",
              "          const docLinkHtml = 'Like what you see? Visit the ' +\n",
              "            '<a target=\"_blank\" href=https://colab.research.google.com/notebooks/data_table.ipynb>data table notebook</a>'\n",
              "            + ' to learn more about interactive tables.';\n",
              "          element.innerHTML = '';\n",
              "          dataTable['output_type'] = 'display_data';\n",
              "          await google.colab.output.renderOutput(dataTable, element);\n",
              "          const docLink = document.createElement('div');\n",
              "          docLink.innerHTML = docLinkHtml;\n",
              "          element.appendChild(docLink);\n",
              "        }\n",
              "      </script>\n",
              "    </div>\n",
              "  </div>\n",
              "  "
            ]
          },
          "metadata": {},
          "execution_count": 245
        }
      ]
    },
    {
      "cell_type": "code",
      "source": [
        "import seaborn as sns\n",
        "data=train_df.corr()\n",
        "sns.heatmap(data)"
      ],
      "metadata": {
        "colab": {
          "base_uri": "https://localhost:8080/",
          "height": 363
        },
        "id": "exoUlB36vFHi",
        "outputId": "e27121c8-d870-4d54-ec38-5263d074a684"
      },
      "execution_count": null,
      "outputs": [
        {
          "output_type": "execute_result",
          "data": {
            "text/plain": [
              "<matplotlib.axes._subplots.AxesSubplot at 0x7f0d49fbc190>"
            ]
          },
          "metadata": {},
          "execution_count": 246
        },
        {
          "output_type": "display_data",
          "data": {
            "text/plain": [
              "<Figure size 432x288 with 2 Axes>"
            ],
            "image/png": "[encoded data removed]"
          },
          "metadata": {
            "needs_background": "light"
          }
        }
      ]
    },
    {
      "cell_type": "code",
      "source": [
        "model=ARDRegression()\n",
        "#model=LinearRegression()\n",
        "params = {\n",
        "    #fixed\n",
        "    'min_child_samples':3,\n",
        "    'num_iterations':200\n",
        "}\n",
        "#model = lgb.LGBMRegressor(**params)\n",
        "model.fit(X_train, y_train)\n",
        "pred=recursive_predict(train_df.iloc[-50:],valid_df,model,train_cols)\n",
        "score=mape(pred,valid_df['y'])\n",
        "print(score)"
      ],
      "metadata": {
        "id": "W291AJ4w5lVo",
        "colab": {
          "base_uri": "https://localhost:8080/"
        },
        "outputId": "fb8fcbc5-265c-44b0-bd3c-f32a838edc0a"
      },
      "execution_count": null,
      "outputs": [
        {
          "output_type": "stream",
          "name": "stdout",
          "text": [
            "0.11578942663949697\n"
          ]
        }
      ]
    },
    {
      "cell_type": "code",
      "source": [
        "plt.plot(pred)\n",
        "plt.plot(valid_df['y'])"
      ],
      "metadata": {
        "colab": {
          "base_uri": "https://localhost:8080/",
          "height": 282
        },
        "id": "rsKYmbEejcZy",
        "outputId": "237da297-d4b3-45f1-a0a4-1d9f549c36cf"
      },
      "execution_count": null,
      "outputs": [
        {
          "output_type": "execute_result",
          "data": {
            "text/plain": [
              "[<matplotlib.lines.Line2D at 0x7f0d49cfb9d0>]"
            ]
          },
          "metadata": {},
          "execution_count": 248
        },
        {
          "output_type": "display_data",
          "data": {
            "text/plain": [
              "<Figure size 432x288 with 1 Axes>"
            ],
            "image/png": "[encoded data removed]"
          },
          "metadata": {
            "needs_background": "light"
          }
        }
      ]
    },
    {
      "cell_type": "code",
      "source": [
        "plt.figure(figsize=(20,5))\n",
        "y_new=np.concatenate([y_train,pred])\n",
        "y_original=pd.concat([train_df['y'],valid_df['y']],ignore_index=True)\n",
        "plt.plot(y_original)\n",
        "plt.plot(y_new)"
      ],
      "metadata": {
        "colab": {
          "base_uri": "https://localhost:8080/",
          "height": 337
        },
        "id": "UmwmYVqTc7pk",
        "outputId": "19d551e1-ba7c-4092-ecea-2db29c5b2542"
      },
      "execution_count": null,
      "outputs": [
        {
          "output_type": "execute_result",
          "data": {
            "text/plain": [
              "[<matplotlib.lines.Line2D at 0x7f0d49d2ef50>]"
            ]
          },
          "metadata": {},
          "execution_count": 249
        },
        {
          "output_type": "display_data",
          "data": {
            "text/plain": [
              "<Figure size 1440x360 with 1 Axes>"
            ],
            "image/png": "[encoded data removed]"
          },
          "metadata": {
            "needs_background": "light"
          }
        }
      ]
    },
    {
      "cell_type": "code",
      "source": [],
      "metadata": {
        "id": "VcVqIaz2m6Mq"
      },
      "execution_count": null,
      "outputs": []
    }
  ]
}